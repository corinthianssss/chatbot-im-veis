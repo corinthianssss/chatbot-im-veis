{
  "cells": [
    {
      "cell_type": "markdown",
      "metadata": {
        "id": "view-in-github",
        "colab_type": "text"
      },
      "source": [
        "<a href=\"https://colab.research.google.com/github/corinthianssss/chatbot-im-veis/blob/main/Untitled0.ipynb\" target=\"_parent\"><img src=\"https://colab.research.google.com/assets/colab-badge.svg\" alt=\"Open In Colab\"/></a>"
      ]
    },
    {
      "cell_type": "markdown",
      "metadata": {
        "id": "g1RTk3TcIQ6-"
      },
      "source": []
    },
    {
      "cell_type": "code",
      "execution_count": null,
      "metadata": {
        "colab": {
          "background_save": true,
          "base_uri": "https://localhost:8080/"
        },
        "id": "BzhpvpinLgCm",
        "outputId": "eb9339a7-65b8-4d65-acae-f9e3a245dcff"
      },
      "outputs": [
        {
          "metadata": {
            "tags": null
          },
          "name": "stdout",
          "output_type": "stream",
          "text": [
            "Olá! Seja bem-vindo ao Chatbot Imobiliário.\n",
            "Estou aqui para te ajudar a encontrar o imóvel ideal.\n"
          ]
        }
      ],
      "source": [
        "import random\n",
        "\n",
        "class Imovel:\n",
        "  def __init__(self, tipo, dormitorios, garagem, bairro, metragem):\n",
        "    self.tipo = tipo\n",
        "    self.dormitorios = dormitorios\n",
        "    self.garagem = garagem\n",
        "    self.bairro = bairro\n",
        "    self.metragem = metragem\n",
        "\n",
        "  def __str__(self):\n",
        "    return f\"{self.tipo} com {self.dormitorios} dormitório(s), {self.garagem} vaga(s) de garagem, no bairro {self.bairro} com {self.metragem}m².\"\n",
        "\n",
        "imoveis = [\n",
        "    Imovel(\"Casa\", 3, 2, \"Penha\", 150),\n",
        "    Imovel(\"Apartamento\", 2, 1, \"Tatuapé\", 80),\n",
        "    Imovel(\"Apartamento Duplex\", 4, 3, \"Vila Formosa\", 200),\n",
        "    Imovel(\"Cobertura\", 5, 4, \"Mooca\", 300),\n",
        "    Imovel(\"Apartamento\", 1, 1, \"Vila Prudente\", 50),\n",
        "]\n",
        "\n",
        "def chatbot():\n",
        "  print(\"Olá! Seja bem-vindo ao Chatbot Imobiliário.\")\n",
        "  print(\"Estou aqui para te ajudar a encontrar o imóvel ideal.\")\n",
        "\n",
        "  tipo = input(\"Que tipo de imóvel você procura? (Casa, Apartamento, Apartamento Duplex, Cobertura): \")\n",
        "  dormitorios = int(input(\"Quantos dormitórios você precisa? (1 a 5): \"))\n",
        "  garagem = int(input(\"Quantas vagas de garagem você precisa? (1 a 8): \"))\n",
        "  bairro = input(\"Em qual bairro você procura? (Penha, Tatuapé, Vila Formosa, Mooca, Vila Prudente): \")\n",
        "\n",
        "  opcoes = []\n",
        "  for imovel in imoveis:\n",
        "    if (imovel.tipo == tipo and imovel.dormitorios == dormitorios and\n",
        "        imovel.garagem == garagem and imovel.bairro == bairro):\n",
        "      opcoes.append(imovel)\n",
        "\n",
        "  if opcoes:\n",
        "    print(\"\\nEncontrei os seguintes imóveis que correspondem à sua busca:\")\n",
        "    for imovel in opcoes:\n",
        "      print(f\"- {imovel}\")\n",
        "  else:\n",
        "    print(\"\\nDesculpe, não encontramos nenhum imóvel com essas características.\")\n",
        "\n",
        "  print(\"\\nUm corretor entrará em contato com você em breve para mais informações.\")\n",
        "\n",
        "if __name__ == \"__main__\":\n",
        "  chatbot()"
      ]
    }
  ],
  "metadata": {
    "colab": {
      "provenance": [],
      "authorship_tag": "ABX9TyNu8SgGYFHkVNBJl+0aDYrQ",
      "include_colab_link": true
    },
    "kernelspec": {
      "display_name": "Python 3",
      "name": "python3"
    },
    "language_info": {
      "name": "python"
    }
  },
  "nbformat": 4,
  "nbformat_minor": 0
}